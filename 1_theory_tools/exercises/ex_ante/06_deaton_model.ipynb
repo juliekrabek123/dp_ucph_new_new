{
 "cells": [
  {
   "cell_type": "code",
   "execution_count": 2,
   "metadata": {},
   "outputs": [
    {
     "name": "stdout",
     "output_type": "stream",
     "text": [
      "The autoreload extension is already loaded. To reload it, use:\n",
      "  %reload_ext autoreload\n"
     ]
    }
   ],
   "source": [
    "# magics: ensures that any changes to the modules loaded below will be re-loaded automatically\n",
    "%load_ext autoreload\n",
    "%autoreload 2\n",
    "\n",
    "# load general packages\n",
    "import numpy as np\n",
    "import matplotlib.pyplot as plt\n",
    "plt.style.use('seaborn-whitegrid')\n",
    "\n",
    "# load modules related to this exercise\n",
    "import Exercise_6 as ex6\n",
    "import tools as tools"
   ]
  },
  {
   "attachments": {},
   "cell_type": "markdown",
   "metadata": {},
   "source": [
    "# Exercise 6: Gaussian Shock\n",
    "\n",
    "Consider the model\n",
    "$$\\begin{align*}\n",
    "V_{t}(W_{t}) & = & \\max_{C_{t}}\\left\\{ \\frac{C_{t}^{1-\\rho}}{1-\\rho}+\\beta\\mathbb{E}_{t}\\left[V_{t+1}(W_{t+1})\\right]\\right\\} \\\\\n",
    " & \\text{s.t.}\\\\\n",
    "W_{t+1} & = & R(W_{t}-C_{t})+Y_{t+1}\\\\\n",
    "Y_{t+1} & = & \\exp(\\xi_{t+1})\\\\\n",
    "\\xi_{t+1} & = & \\mathcal{N}(0,\\sigma_{\\xi}^{2})\\\\\n",
    "A_{t}=W_{t}-C_{t} & \\geq & 0\n",
    "\\end{align*}$$\n",
    "\n",
    "for $T=10$, $\\beta=0.98$, $\\rho=0.5$, $R=1.0/\\beta$, $W_1=10$ and $\\sigma_{\\xi}=0.2$."
   ]
  },
  {
   "cell_type": "markdown",
   "metadata": {},
   "source": [
    "### 1. Solve it using Gauss-Hermite quadrature for evaluating the expectation. "
   ]
  },
  {
   "cell_type": "code",
   "execution_count": 7,
   "metadata": {},
   "outputs": [],
   "source": [
    "# Setup specifications in class. \n",
    "class par: pass\n",
    "par.beta = 0.98\n",
    "par.rho = 0.5\n",
    "par.R = 1.0/par.beta\n",
    "par.sigma = 0.2\n",
    "par.mu = 0\n",
    "par.W = 10\n",
    "par.T = 10\n",
    "par.num_shocks = 5\n",
    "\n",
    "#Gauss-Hermite nodes and transformation\n",
    "x,w = tools.gauss_hermite(par.num_shocks)\n",
    "par.eps = np.exp(par.sigma*np.sqrt(2)*x) #Change of variable\n",
    "par.eps_w = w/np.sqrt(np.pi) #Corresponding weights\n",
    "\n",
    "# Grid\n",
    "par.num_W = 200\n",
    "par.num_C = 200\n",
    "\n",
    "# Solve the model\n",
    "sol = ex6.solve_consumption_deaton(par)"
   ]
  },
  {
   "cell_type": "markdown",
   "metadata": {},
   "source": [
    "### 2. Plot the consumption function and the value function. See how the optimal consumption and value function varies over time."
   ]
  },
  {
   "cell_type": "code",
   "execution_count": 8,
   "metadata": {},
   "outputs": [
    {
     "data": {
      "image/png": "[encoded data removed]",
      "text/plain": [
       "<Figure size 1000x400 with 2 Axes>"
      ]
     },
     "metadata": {},
     "output_type": "display_data"
    }
   ],
   "source": [
    "# Define a function for the solution\n",
    "def plot_solution(sol,par,t):\n",
    "    fig = plt.figure(figsize=(10,4))# figsize is in inches...\n",
    "    \n",
    "    ax = fig.add_subplot(1,2,1)\n",
    "    ax.scatter(sol.grid_W[:,t],sol.V[:,t])\n",
    "    ax.set_xlabel(f\"$W_{t+1}$\")\n",
    "    ax.set_ylabel(f\"$V_{t+1}$\")\n",
    "    ax.set_ylim(0,30)\n",
    "\n",
    "    ax_right = fig.add_subplot(1,2,2)\n",
    "    ax_right.scatter(sol.grid_W[:,t],sol.C[:,t])\n",
    "    ax_right.plot(sol.grid_W[:,t],sol.grid_W[:,t],color='black',linestyle='dashed')\n",
    "    ax_right.set_xlabel(f\"$W_{t+1}$\")\n",
    "    ax_right.set_ylabel(f\"$C_{t+1}$\")\n",
    "\n",
    "    plt.show()\n",
    "\n",
    "plot_solution(sol,par,0)"
   ]
  },
  {
   "cell_type": "markdown",
   "metadata": {},
   "source": [
    "### 3. Simulate a panel of *N* household for *T* periods and plot the mean of $C_t$. Everybody should be initialized with $W_t = 1.5$. Compare a simulation where $\\sigma_{\\xi}=0.2$ and $\\sigma_{\\xi}=0$. What happens to consumption over time in the two simulations?"
   ]
  },
  {
   "cell_type": "code",
   "execution_count": null,
   "metadata": {},
   "outputs": [],
   "source": [
    "# set-up\n",
    "par.simN = 10000\n",
    "par.W_ini = 1.5\n",
    "\n",
    "# Create a copy of the class\n",
    "class par_sigma_0(par): pass  \n",
    "par_sigma_0.sigma = 0 \n",
    "x,w = tools.gauss_hermite(par_sigma_0.num_shocks)\n",
    "par_sigma_0.eps = np.exp(par_sigma_0.sigma*np.sqrt(2)*x)\n",
    "par_sigma_0.eps_w = w/np.sqrt(np.pi)\n",
    "\n",
    "\n",
    "def simulate(sol, par):\n",
    "    # Allocate\n",
    "    class sim: pass\n",
    "    shape = (par.simN, par.T)\n",
    "    sim.W = par.W_ini*np.ones(shape)\n",
    "    sim.C = np.nan +np.zeros(shape)\n",
    "    \n",
    "    # Simulate \n",
    "    np.random.seed(2022) #Seed value, it ensures that the computer draw the same \"random\"-numbers each time\n",
    "    \n",
    "    for t in range(par.T):\n",
    "        \n",
    "        \n",
    "        # fill in\n",
    "    \n",
    "    return sim\n",
    "\n",
    "\n",
    "# Simulation for sigma=0\n",
    "sol_sigma_0 = ex6.solve_consumption_deaton(par_sigma_0)\n",
    "sim_sigma_0 = simulate(sol_sigma_0,par_sigma_0)\n",
    "sim_C_sigma_0 = np.mean(sim_sigma_0.C, axis=0) #Mean over individuals\n",
    "sim_W_sigma_0 = np.mean(sim_sigma_0.W, axis=0) #Mean over individuals\n",
    "\n",
    "\n",
    "# Simulation for sigma=0.2\n",
    "sim = simulate(sol,par)\n",
    "sim_C = np.mean(sim.C, axis=0) #Mean over individuals\n",
    "sim_W = np.mean(sim.W, axis=0) #Mean over individuals\n",
    "\n",
    "#Plot\n",
    "fig = plt.figure(figsize=(10,4))# figsize is in inches...\n",
    "    \n",
    "ax1 = fig.add_subplot(1,2,1)\n",
    "ax1.plot(range(1,par_sigma_0.T+1),sim_C_sigma_0, label='$\\sigma = 0$')\n",
    "ax1.plot(range(1,par.T+1),sim_C, label='$\\sigma = 0.2$')\n",
    "ax1.set_ylabel('$C_t$')\n",
    "ax1.set_xlabel('$t$')\n",
    "ax1.set_title('Consumption')\n",
    "ax1.set_ylim(0.5,1.5)\n",
    "ax1.legend()\n",
    "\n",
    "ax2 = fig.add_subplot(1,2,2)\n",
    "ax2.plot(range(1,par_sigma_0.T+1),sim_W_sigma_0, label='$\\sigma = 0$')\n",
    "ax2.plot(range(1,par.T+1),sim_W, label='$\\sigma = 0.2$')\n",
    "ax2.set_ylabel('$W_t$')\n",
    "ax2.set_xlabel('$t$')\n",
    "ax2.set_title('Cash-in-hand')"
   ]
  },
  {
   "attachments": {},
   "cell_type": "markdown",
   "metadata": {},
   "source": [
    "### 4. Calculate the Euler-error \n",
    "The Euler-equation with uncertainty is given by\n",
    "$$\\begin{align*}\n",
    "  u'(C_{i,t}) = \\beta R E_t[u'(C_{i,t+1})]\n",
    "\\end{align*}$$\n",
    "\n",
    "The Euler-error is the calculated as\n",
    "$$\\begin{align*}\n",
    "  \\varepsilon_{it} \\approx u'(C_{it})-\\beta R \\sum_{j=1}^{S} \\omega_j \\Big[u'\\big(C_{i,t+1}^{\\star}(R(W_{it}-C_{it})+Y_j)\\big)\\Big]\n",
    " \\end{align*}$$\n",
    " and $\\omega_j$ are the Gauss-Hermite weights and $Y_j$ are the associated income nodes.\n",
    "\n",
    "The mean Euler-error is given by\n",
    "$$\\begin{align*}\n",
    " \\frac{1}{\\sum_{i=1}^{N}\\sum_{t=1}^{T}  \\mathbb{1}_{\\{0<C_{it}<W_{it}\\}}}\\sum_{i=1}^{N}\\sum_{t=1}^{T} \\mathbb{1}_{\\{0<C_{it}<W_{it}\\}} |\\varepsilon_{it}|\n",
    " \\end{align*}$$\n",
    "where it must hold that $0<C_{it}<W_{it}$. If $C_{it}=W_{it}$  agents are credit constrained and the Euler equation doesn't hold."
   ]
  },
  {
   "cell_type": "code",
   "execution_count": null,
   "metadata": {},
   "outputs": [],
   "source": [
    "# Define the marginal utility\n",
    "def marg_util(C,par):\n",
    "    y = C**(-par.rho)\n",
    "    return y\n",
    "\n",
    "\n",
    "# 1. Solve the model\n",
    "sol = ex6.solve_consumption_deaton(par)\n",
    "\n",
    "# 2. simulate\n",
    "sim = simulate(sol,par)\n",
    "\n",
    "# 3. Calculate the Euler residual\n",
    "Euler_residual = np.nan + np.zeros((par.simN,par.T-1))  # Allocate space\n",
    "A = np.nan + np.zeros((par.simN,par.T-1))               # Allocate space\n",
    "\n",
    "\n",
    "for t in range(par.T-1):   # Sum over t (and the sum over N happens in vector notation)\n",
    "    \n",
    "    # Initialize\n",
    "    w = sim.W[:,t]\n",
    "    c = sim.C[:,t]\n",
    "    w_c = w-c\n",
    "    A[:,t] = w_c \n",
    "    \n",
    "    marg_util_next = 0\n",
    "\n",
    "    for s in range(par.num_shocks):\n",
    "                    # fill in\n",
    "                    # Hint: Calculate expectations with loop\n",
    "            \n",
    "            \n",
    "            \n",
    "            \n",
    "            \n",
    "                    \n",
    "    Euler_residual[:,t] = marg_util(c,par)-par.beta*par.R*marg_util_next\n",
    "\n",
    "# 4. Calculate the average absolute euler residual\n",
    "I = (A>0)   # Only evaluate at the interior solution\n",
    "Euler_error = np.mean(abs(Euler_residual[I]))\n",
    "\n",
    "\n",
    "print(f'The Euler error:    {Euler_error:.4f}')"
   ]
  },
  {
   "attachments": {},
   "cell_type": "markdown",
   "metadata": {},
   "source": [
    "### 7. Likewise calculate the normalized Euler-error\n",
    "\n",
    "\n",
    "$$\\begin{align*}\n",
    " \\frac{1}{\\sum_{i=1}^{N}\\sum_{t=1}^{T} \\mathbb{1}_{\\{0<C_1<W_{it}\\}}}\\sum_{i=1}^{N}\\sum_{t=1}^{T} log_{10}(|\\varepsilon_{it}| / C_{it}) \\mathbb{1}_{0<C_1<W_{it}} \n",
    " \\end{align*}$$\n",
    "\n",
    "and discuss what this implies for the accuracy of the solution."
   ]
  },
  {
   "cell_type": "code",
   "execution_count": null,
   "metadata": {},
   "outputs": [],
   "source": [
    "C =(sim.C[:,0:par.T-1])  # The euler error is not defined in last period\n",
    "\n",
    "nom_Euler_error = np.log10(abs(Euler_residual[I])/(C[I]))   \n",
    "nom_Euler_error = np.mean(nom_Euler_error)\n",
    "\n",
    "\n",
    "print(f'The Normalized Euler error:    {nom_Euler_error:.4f}')"
   ]
  },
  {
   "cell_type": "markdown",
   "metadata": {},
   "source": [
    "### 8. Look at how the Euler-errors change when you vary the number of grid points. "
   ]
  },
  {
   "cell_type": "code",
   "execution_count": null,
   "metadata": {},
   "outputs": [],
   "source": [
    "# Define functions\n",
    "\n",
    "#Function for Setup\n",
    "def setup():\n",
    "    class par: pass\n",
    "    par.beta = 0.98\n",
    "    par.rho = 0.5\n",
    "    par.R = 1.0/par.beta\n",
    "    par.sigma = 0.2\n",
    "    par.mu = 0\n",
    "    par.W = 50\n",
    "    par.T = 10\n",
    "    \n",
    "    par.num_shocks = 5\n",
    "    x,w = tools.gauss_hermite(par.num_shocks)\n",
    "    par.eps = np.exp(par.sigma*np.sqrt(2)*x)\n",
    "    par.eps_w = w/np.sqrt(np.pi)\n",
    "    \n",
    "    # Grid\n",
    "    par.num_W = 200\n",
    "    par.num_C = 200\n",
    "\n",
    "    # Simulation parameters\n",
    "    par.simN = 10000\n",
    "    par.W_ini = 1.5\n",
    "    \n",
    "    return par\n",
    "\n",
    "#Function for Euler Error\n",
    "def Euler_error(par, sol, sim):\n",
    "    Euler_residual = np.nan + np.zeros((par.simN,par.T-1))  # Allocate space\n",
    "    A = np.nan + np.zeros((par.simN,par.T-1))               # Allocate space\n",
    "    \n",
    "    for t in range(par.T-1):   # Sum over t (and the sum over N happens in vector notation)\n",
    "        \n",
    "        # Initialize\n",
    "        w = sim.W[:,t]\n",
    "        c = sim.C[:,t]\n",
    "        w_c = w-c\n",
    "        A[:,t] = w_c \n",
    "        \n",
    "        marg_util_next = 0\n",
    "    \n",
    "        for s in range(par.num_shocks):\n",
    "                        # fill in\n",
    "                \n",
    "                \n",
    "                        \n",
    "                        \n",
    "        Euler_residual[:,t] = marg_util(c,par)-par.beta*par.R*marg_util_next\n",
    "    \n",
    "    \n",
    "    I = (A>0)   \n",
    "    Euler_error = np.mean(abs(Euler_residual[I]))\n",
    "    \n",
    "    C =(sim.C[:,0:par.T-1])\n",
    "\n",
    "    nom_Euler_error = np.log10(abs(Euler_residual[I])/(C[I]))   \n",
    "    nom_Euler_error = np.mean(nom_Euler_error)\n",
    "    \n",
    "    print(f'Number of grid points:         {par.num_W} ')\n",
    "    print(f'The Euler error:               {Euler_error:.4f}')\n",
    "    print(f'The Normalized Euler error:    {nom_Euler_error:.4f}', end ='\\n\\n')"
   ]
  },
  {
   "cell_type": "code",
   "execution_count": null,
   "metadata": {},
   "outputs": [],
   "source": [
    "# Find the Euler Error for different grid points\n",
    "\n",
    "#Array of grid points    \n",
    "grid_points = np.array([10,20,40,50,70,100,1000])\n",
    "\n",
    "for i,grid_point in enumerate(grid_points):\n",
    "    # setup\n",
    "    pars = setup()\n",
    "    pars.num_W = grid_point\n",
    "    \n",
    "    # solve\n",
    "    sols = ex6.solve_consumption_deaton(pars)\n",
    "\n",
    "\n",
    "    # simulate\n",
    "    sims = simulate(sol, pars)\n",
    "\n",
    "    # calculate the errors\n",
    "    Euler_error(pars, sols, sims)"
   ]
  }
 ],
 "metadata": {
  "kernelspec": {
   "display_name": "base",
   "language": "python",
   "name": "python3"
  },
  "language_info": {
   "codemirror_mode": {
    "name": "ipython",
    "version": 3
   },
   "file_extension": ".py",
   "mimetype": "text/x-python",
   "name": "python",
   "nbconvert_exporter": "python",
   "pygments_lexer": "ipython3",
   "version": "3.9.13"
  },
  "vscode": {
   "interpreter": {
    "hash": "40d3a090f54c6569ab1632332b64b2c03c39dcf918b08424e98f38b5ae0af88f"
   }
  }
 },
 "nbformat": 4,
 "nbformat_minor": 4
}
